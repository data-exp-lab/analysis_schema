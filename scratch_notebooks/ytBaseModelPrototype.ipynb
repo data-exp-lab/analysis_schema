{
 "cells": [
  {
   "cell_type": "markdown",
   "metadata": {},
   "source": [
    "### a ytBaseModel pydantic class experiment\n",
    "\n",
    "this notebook subclasses pydantic's `BaseModel` class to create an abstract `ytBaseModel` class that includes some business for executing the corresponding methods. \n",
    "\n",
    "The `ytBaseModel` class:\n",
    "* uses the `inspect.getfullargspec` within `ytBaseModel._run()` to retrieve the expected argument order of the yt method and then calls the yt method using the values in the `ytBaseModel` attributes.\n",
    "* checks if any of args being passed to the yt call are themselves `ytBaseModel` instances, in which case `ytBaseModel._run()` gets called for that argument.\n",
    "* uses a protected dictionary attribute, `_arg_mapping`, to map any argument names we have changed betwen yt's internal calls and the pydantic class. `_args_mapping['yt_name'] -> 'schema_name'`.\n",
    "\n",
    "So here's the base class:"
   ]
  },
  {
   "cell_type": "code",
   "execution_count": 18,
   "metadata": {},
   "outputs": [],
   "source": [
    "from pydantic import BaseModel\n",
    "from inspect import getfullargspec\n",
    "\n",
    "\n",
    "class ytBaseModel(BaseModel):\n",
    "    _arg_mapping: dict = {}  # mapping from internal yt name to schema name\n",
    "\n",
    "    def _run(self):\n",
    "        # this method actually executes the yt code \n",
    "        \n",
    "        # first make sure yt is imported and then get our function handle. This assumes\n",
    "        # that our class name exists in yt's top level api.\n",
    "        import yt\n",
    "        func = getattr(yt, type(self).__name__)\n",
    "        print(f\"pulled func {func}\")\n",
    "\n",
    "        # now we get the arguments for the function:\n",
    "        # func_spec.args, which lists the named arguments and keyword arguments.\n",
    "        # ignoring vargs and kw-only args for now...\n",
    "        # see https://docs.python.org/3/library/inspect.html#inspect.getfullargspec\n",
    "        func_spec = getfullargspec(func)\n",
    "\n",
    "        # the list that we'll use to eventually call our function\n",
    "        the_args = []\n",
    "\n",
    "        # the argument position number at which we have default values (a little hacky, should\n",
    "        # be a better way to do this, and not sure how to scale it to include *args and **kwargs)\n",
    "        n_args = len(func_spec.args)  # number of arguments\n",
    "        if func_spec.defaults is None:\n",
    "            # no default args, make sure we never get there...\n",
    "            named_kw_start_at = n_args + 1\n",
    "        else:\n",
    "            # the position at which named keyword args start\n",
    "            named_kw_start_at = n_args - len(func_spec.defaults)\n",
    "        print(f\"keywords start at {named_kw_start_at}\")\n",
    "\n",
    "        # loop over the call signature arguments and pull out values from our pydantic class .\n",
    "        # this is recursive! will call _run() if a given argument value is also a ytBaseModel.\n",
    "        for arg_i, arg in enumerate(func_spec.args):\n",
    "            # check if we've remapped the yt internal argument name for the schema\n",
    "            if arg in self._arg_mapping:\n",
    "                arg = self._arg_mapping[arg]\n",
    "\n",
    "            # get the value for this argument. If it's not there, attempt to set default values \n",
    "            # for arguments needed for yt but not exposed in our pydantic class\n",
    "            try:\n",
    "                arg_value = getattr(self, arg)\n",
    "            except AttributeError:\n",
    "                if arg_i >= named_kw_start_at:\n",
    "                    # we are in the named keyword arguments, grab the default\n",
    "                    # the func_spec.defaults tuple 0 index is the first named\n",
    "                    # argument, so need to offset the arg_i counter\n",
    "                    default_index = arg_i - named_kw_start_at\n",
    "                    arg_value = func_spec.defaults[default_index]\n",
    "                else:\n",
    "                    raise AttributeError\n",
    "\n",
    "            # check if this argument is itself a ytBaseModel for which we need to run\n",
    "            # this should make this a fully recursive function?\n",
    "            # if hasattr(arg_value,'_run'):\n",
    "            if isinstance(arg_value, ytBaseModel):\n",
    "                print(f\"{arg_value} is a ytBaseModel, calling {arg_value}._run() now...\")\n",
    "                arg_value = arg_value._run()\n",
    "\n",
    "            the_args.append(arg_value)\n",
    "        print(the_args)\n",
    "        return func(*the_args)"
   ]
  },
  {
   "cell_type": "markdown",
   "metadata": {},
   "source": [
    "Now we'll create two new classes for `load` and `SlicePlot`:"
   ]
  },
  {
   "cell_type": "code",
   "execution_count": 19,
   "metadata": {},
   "outputs": [],
   "source": [
    "class load(ytBaseModel):\n",
    "    filename: str\n",
    "    _arg_mapping: dict = {\"fn\": \"filename\"}\n",
    "\n",
    "class SlicePlot(ytBaseModel):\n",
    "    ds: load = None\n",
    "    normal: str = 'x'\n",
    "    field: tuple = ('all', 'Density')\n",
    "    _arg_mapping: dict = {\"fields\": \"field\"}"
   ]
  },
  {
   "cell_type": "markdown",
   "metadata": {},
   "source": [
    "now let's instantiate some classes:"
   ]
  },
  {
   "cell_type": "code",
   "execution_count": 56,
   "metadata": {},
   "outputs": [],
   "source": [
    "ds = load(filename=\"IsolatedGalaxy/galaxy0030/galaxy0030\")\n",
    "slc = SlicePlot(ds=ds, dim='x',field=(\"PartType0\",\"Density\"))"
   ]
  },
  {
   "cell_type": "markdown",
   "metadata": {},
   "source": [
    "so these objects are normal pydantic classes:"
   ]
  },
  {
   "cell_type": "code",
   "execution_count": 57,
   "metadata": {},
   "outputs": [
    {
     "data": {
      "text/plain": [
       "{'title': 'load',\n",
       " 'type': 'object',\n",
       " 'properties': {'filename': {'title': 'Filename', 'type': 'string'}},\n",
       " 'required': ['filename']}"
      ]
     },
     "execution_count": 57,
     "metadata": {},
     "output_type": "execute_result"
    }
   ],
   "source": [
    "ds.schema()"
   ]
  },
  {
   "cell_type": "code",
   "execution_count": 58,
   "metadata": {},
   "outputs": [
    {
     "data": {
      "text/plain": [
       "{'title': 'SlicePlot',\n",
       " 'type': 'object',\n",
       " 'properties': {'ds': {'$ref': '#/definitions/load'},\n",
       "  'normal': {'title': 'Normal', 'default': 'x', 'type': 'string'},\n",
       "  'field': {'title': 'Field',\n",
       "   'default': ('all', 'Density'),\n",
       "   'type': 'array',\n",
       "   'items': {}}},\n",
       " 'definitions': {'load': {'title': 'load',\n",
       "   'type': 'object',\n",
       "   'properties': {'filename': {'title': 'Filename', 'type': 'string'}},\n",
       "   'required': ['filename']}}}"
      ]
     },
     "execution_count": 58,
     "metadata": {},
     "output_type": "execute_result"
    }
   ],
   "source": [
    "slc.schema()"
   ]
  },
  {
   "cell_type": "markdown",
   "metadata": {},
   "source": [
    "but now we can use .run() to execute!"
   ]
  },
  {
   "cell_type": "code",
   "execution_count": 59,
   "metadata": {},
   "outputs": [
    {
     "name": "stdout",
     "output_type": "stream",
     "text": [
      "pulled func <function SlicePlot at 0x119707488>\n",
      "keywords start at 1\n",
      "filename='IsolatedGalaxy/galaxy0030/galaxy0030' is a ytBaseModel, calling filename='IsolatedGalaxy/galaxy0030/galaxy0030'._run() now...\n",
      "pulled func <function load at 0x118f006a8>\n",
      "keywords start at 1\n",
      "[]\n"
     ]
    },
    {
     "name": "stderr",
     "output_type": "stream",
     "text": [
      "yt : [ERROR    ] 2021-04-16 13:49:43,668 None of the arguments provided to load() is a valid file\n",
      "yt : [ERROR    ] 2021-04-16 13:49:43,669 Please check that you have used a correct path\n"
     ]
    },
    {
     "ename": "YTOutputNotIdentified",
     "evalue": "Supplied () {}, but could not load!",
     "output_type": "error",
     "traceback": [
      "\u001b[0;31m---------------------------------------------------------------------------\u001b[0m",
      "\u001b[0;31mYTOutputNotIdentified\u001b[0m                     Traceback (most recent call last)",
      "\u001b[0;32m<ipython-input-59-769fa161704c>\u001b[0m in \u001b[0;36m<module>\u001b[0;34m\u001b[0m\n\u001b[0;32m----> 1\u001b[0;31m \u001b[0mslc\u001b[0m\u001b[0;34m.\u001b[0m\u001b[0m_run\u001b[0m\u001b[0;34m(\u001b[0m\u001b[0;34m)\u001b[0m\u001b[0;34m\u001b[0m\u001b[0;34m\u001b[0m\u001b[0m\n\u001b[0m",
      "\u001b[0;32m<ipython-input-18-2d3cd20b2f00>\u001b[0m in \u001b[0;36m_run\u001b[0;34m(self)\u001b[0m\n\u001b[1;32m     61\u001b[0m             \u001b[0;32mif\u001b[0m \u001b[0misinstance\u001b[0m\u001b[0;34m(\u001b[0m\u001b[0marg_value\u001b[0m\u001b[0;34m,\u001b[0m \u001b[0mytBaseModel\u001b[0m\u001b[0;34m)\u001b[0m\u001b[0;34m:\u001b[0m\u001b[0;34m\u001b[0m\u001b[0;34m\u001b[0m\u001b[0m\n\u001b[1;32m     62\u001b[0m                 \u001b[0mprint\u001b[0m\u001b[0;34m(\u001b[0m\u001b[0;34mf\"{arg_value} is a ytBaseModel, calling {arg_value}._run() now...\"\u001b[0m\u001b[0;34m)\u001b[0m\u001b[0;34m\u001b[0m\u001b[0;34m\u001b[0m\u001b[0m\n\u001b[0;32m---> 63\u001b[0;31m                 \u001b[0marg_value\u001b[0m \u001b[0;34m=\u001b[0m \u001b[0marg_value\u001b[0m\u001b[0;34m.\u001b[0m\u001b[0m_run\u001b[0m\u001b[0;34m(\u001b[0m\u001b[0;34m)\u001b[0m\u001b[0;34m\u001b[0m\u001b[0;34m\u001b[0m\u001b[0m\n\u001b[0m\u001b[1;32m     64\u001b[0m \u001b[0;34m\u001b[0m\u001b[0m\n\u001b[1;32m     65\u001b[0m             \u001b[0mthe_args\u001b[0m\u001b[0;34m.\u001b[0m\u001b[0mappend\u001b[0m\u001b[0;34m(\u001b[0m\u001b[0marg_value\u001b[0m\u001b[0;34m)\u001b[0m\u001b[0;34m\u001b[0m\u001b[0;34m\u001b[0m\u001b[0m\n",
      "\u001b[0;32m<ipython-input-18-2d3cd20b2f00>\u001b[0m in \u001b[0;36m_run\u001b[0;34m(self)\u001b[0m\n\u001b[1;32m     65\u001b[0m             \u001b[0mthe_args\u001b[0m\u001b[0;34m.\u001b[0m\u001b[0mappend\u001b[0m\u001b[0;34m(\u001b[0m\u001b[0marg_value\u001b[0m\u001b[0;34m)\u001b[0m\u001b[0;34m\u001b[0m\u001b[0;34m\u001b[0m\u001b[0m\n\u001b[1;32m     66\u001b[0m         \u001b[0mprint\u001b[0m\u001b[0;34m(\u001b[0m\u001b[0mthe_args\u001b[0m\u001b[0;34m)\u001b[0m\u001b[0;34m\u001b[0m\u001b[0;34m\u001b[0m\u001b[0m\n\u001b[0;32m---> 67\u001b[0;31m         \u001b[0;32mreturn\u001b[0m \u001b[0mfunc\u001b[0m\u001b[0;34m(\u001b[0m\u001b[0;34m*\u001b[0m\u001b[0mthe_args\u001b[0m\u001b[0;34m)\u001b[0m\u001b[0;34m\u001b[0m\u001b[0;34m\u001b[0m\u001b[0m\n\u001b[0m",
      "\u001b[0;32m~/anaconda3/lib/python3.7/site-packages/yt/convenience.py\u001b[0m in \u001b[0;36mload\u001b[0;34m(*args, **kwargs)\u001b[0m\n\u001b[1;32m     74\u001b[0m             \u001b[0mmylog\u001b[0m\u001b[0;34m.\u001b[0m\u001b[0merror\u001b[0m\u001b[0;34m(\u001b[0m\u001b[0;34m\"None of the arguments provided to load() is a valid file\"\u001b[0m\u001b[0;34m)\u001b[0m\u001b[0;34m\u001b[0m\u001b[0;34m\u001b[0m\u001b[0m\n\u001b[1;32m     75\u001b[0m             \u001b[0mmylog\u001b[0m\u001b[0;34m.\u001b[0m\u001b[0merror\u001b[0m\u001b[0;34m(\u001b[0m\u001b[0;34m\"Please check that you have used a correct path\"\u001b[0m\u001b[0;34m)\u001b[0m\u001b[0;34m\u001b[0m\u001b[0;34m\u001b[0m\u001b[0m\n\u001b[0;32m---> 76\u001b[0;31m             \u001b[0;32mraise\u001b[0m \u001b[0mYTOutputNotIdentified\u001b[0m\u001b[0;34m(\u001b[0m\u001b[0margs\u001b[0m\u001b[0;34m,\u001b[0m \u001b[0mkwargs\u001b[0m\u001b[0;34m)\u001b[0m\u001b[0;34m\u001b[0m\u001b[0;34m\u001b[0m\u001b[0m\n\u001b[0m\u001b[1;32m     77\u001b[0m     \u001b[0;32mfor\u001b[0m \u001b[0mn\u001b[0m\u001b[0;34m,\u001b[0m \u001b[0mc\u001b[0m \u001b[0;32min\u001b[0m \u001b[0mtypes_to_check\u001b[0m\u001b[0;34m.\u001b[0m\u001b[0mitems\u001b[0m\u001b[0;34m(\u001b[0m\u001b[0;34m)\u001b[0m\u001b[0;34m:\u001b[0m\u001b[0;34m\u001b[0m\u001b[0;34m\u001b[0m\u001b[0m\n\u001b[1;32m     78\u001b[0m         \u001b[0;32mif\u001b[0m \u001b[0mn\u001b[0m \u001b[0;32mis\u001b[0m \u001b[0;32mNone\u001b[0m\u001b[0;34m:\u001b[0m \u001b[0;32mcontinue\u001b[0m\u001b[0;34m\u001b[0m\u001b[0;34m\u001b[0m\u001b[0m\n",
      "\u001b[0;31mYTOutputNotIdentified\u001b[0m: Supplied () {}, but could not load!"
     ]
    }
   ],
   "source": [
    "slc._run()"
   ]
  },
  {
   "cell_type": "code",
   "execution_count": null,
   "metadata": {},
   "outputs": [],
   "source": []
  },
  {
   "cell_type": "code",
   "execution_count": 7,
   "metadata": {},
   "outputs": [],
   "source": [
    "from pydantic import BaseModel\n",
    "from inspect import getfullargspec\n",
    "from typing import Optional\n",
    "\n",
    "\n",
    "class ytBaseModel(BaseModel):\n",
    "    _arg_mapping: dict = {}  # mapping from internal yt name to schema name\n",
    "    _yt_operation: Optional[str]\n",
    "        \n",
    "    def _run(self):\n",
    "        # this method actually executes the yt code \n",
    "        \n",
    "        # first make sure yt is imported and then get our function handle. This assumes\n",
    "        # that our class name exists in yt's top level api.\n",
    "        import yt\n",
    "        print(self._yt_operation)\n",
    "        \n",
    "        funcname = getattr(self, \"_yt_operation\", type(self).__name__ )        \n",
    "        func = getattr(yt, funcname)\n",
    "        print(f\"pulled func {func}\")\n",
    "\n",
    "        # now we get the arguments for the function:\n",
    "        # func_spec.args, which lists the named arguments and keyword arguments.\n",
    "        # ignoring vargs and kw-only args for now...\n",
    "        # see https://docs.python.org/3/library/inspect.html#inspect.getfullargspec\n",
    "        func_spec = getfullargspec(func)\n",
    "\n",
    "        # the list that we'll use to eventually call our function\n",
    "        the_args = []\n",
    "\n",
    "        # the argument position number at which we have default values (a little hacky, should\n",
    "        # be a better way to do this, and not sure how to scale it to include *args and **kwargs)\n",
    "        n_args = len(func_spec.args)  # number of arguments\n",
    "        if func_spec.defaults is None:\n",
    "            # no default args, make sure we never get there...\n",
    "            named_kw_start_at = n_args + 1\n",
    "        else:\n",
    "            # the position at which named keyword args start\n",
    "            named_kw_start_at = n_args - len(func_spec.defaults)\n",
    "        print(f\"keywords start at {named_kw_start_at}\")\n",
    "\n",
    "        # loop over the call signature arguments and pull out values from our pydantic class .\n",
    "        # this is recursive! will call _run() if a given argument value is also a ytBaseModel.\n",
    "        for arg_i, arg in enumerate(func_spec.args):\n",
    "            # check if we've remapped the yt internal argument name for the schema\n",
    "            if arg in self._arg_mapping:\n",
    "                arg = self._arg_mapping[arg]\n",
    "\n",
    "            # get the value for this argument. If it's not there, attempt to set default values \n",
    "            # for arguments needed for yt but not exposed in our pydantic class\n",
    "            print(arg)\n",
    "            try:\n",
    "                arg_value = getattr(self, arg)\n",
    "            except AttributeError:\n",
    "                if arg_i >= named_kw_start_at:\n",
    "                    # we are in the named keyword arguments, grab the default\n",
    "                    # the func_spec.defaults tuple 0 index is the first named\n",
    "                    # argument, so need to offset the arg_i counter\n",
    "                    default_index = arg_i - named_kw_start_at\n",
    "                    arg_value = func_spec.defaults[default_index]\n",
    "                else:\n",
    "                    raise AttributeError\n",
    "\n",
    "            # check if this argument is itself a ytBaseModel for which we need to run\n",
    "            # this should make this a fully recursive function?\n",
    "            # if hasattr(arg_value,'_run'):\n",
    "            if isinstance(arg_value, ytBaseModel) or isinstance(arg_value, ytParameter):\n",
    "                print(f\"{arg_value} is a {type(arg_value)}, calling {arg_value}._run() now...\")\n",
    "                arg_value = arg_value._run()\n",
    "\n",
    "            the_args.append(arg_value)\n",
    "        print(the_args)\n",
    "        return func(*the_args) \n",
    "    \n",
    "class ytParameter(BaseModel):    \n",
    "    _skip_these = ['comments']\n",
    "    \n",
    "    def _run(self):\n",
    "        p = [getattr(self,key) for key in self.schema()['properties'].keys() if key not in self._skip_these]\n",
    "        if len(p) > 1:\n",
    "            raise ValueError(\"whoops. ytParameter instances can only have single values\")\n",
    "        return p[0]\n"
   ]
  },
  {
   "cell_type": "code",
   "execution_count": 60,
   "metadata": {},
   "outputs": [],
   "source": [
    "class Dataset(ytBaseModel):\n",
    "    \"\"\" \n",
    "    The dataset model to load and that will be drawn from for other classes. Filename is the only required field. \n",
    "    \"\"\"\n",
    "    filename: str\n",
    "    name: str = \"Data for Science\"\n",
    "    comments: Optional[str] \n",
    "    grammar: str = \"registration\"\n",
    "    _yt_operation: str = \"load\"\n",
    "    _arg_mapping: dict = {'fn' : 'filename'}\n",
    "\n",
    "class ytModel(ytBaseModel):\n",
    "    '''\n",
    "    An example for a yt analysis schema using Pydantic\n",
    "    '''\n",
    "    Load: Dataset\n",
    "\n",
    "    class Config:\n",
    "        title = 'yt example'\n",
    "        underscore_attrs_are_private = True\n",
    "        \n",
    "    def _run(self):\n",
    "        # for the top level model, we override this. Nested objects will still be recursive!\n",
    "        att = getattr(self, \"Load\")\n",
    "        return att._run()"
   ]
  },
  {
   "cell_type": "code",
   "execution_count": 65,
   "metadata": {},
   "outputs": [],
   "source": [
    "validated_json = {'Load': {\"filename\": \"IsolatedGalaxy/galaxy0030/galaxy0030\"}}"
   ]
  },
  {
   "cell_type": "code",
   "execution_count": 68,
   "metadata": {},
   "outputs": [],
   "source": [
    "yt_mod = ytModel(Load = validated_json[\"Load\"])"
   ]
  },
  {
   "cell_type": "code",
   "execution_count": 69,
   "metadata": {},
   "outputs": [
    {
     "data": {
      "text/plain": [
       "ytModel(Load=Dataset(filename='IsolatedGalaxy/galaxy0030/galaxy0030', name='Data for Science', comments=None, grammar='registration'))"
      ]
     },
     "execution_count": 69,
     "metadata": {},
     "output_type": "execute_result"
    }
   ],
   "source": [
    "yt_mod"
   ]
  },
  {
   "cell_type": "code",
   "execution_count": 70,
   "metadata": {},
   "outputs": [
    {
     "ename": "AttributeError",
     "evalue": "module 'yt' has no attribute 'Dataset'",
     "output_type": "error",
     "traceback": [
      "\u001b[0;31m---------------------------------------------------------------------------\u001b[0m",
      "\u001b[0;31mAttributeError\u001b[0m                            Traceback (most recent call last)",
      "\u001b[0;32m<ipython-input-70-348ed7f5fa13>\u001b[0m in \u001b[0;36m<module>\u001b[0;34m\u001b[0m\n\u001b[0;32m----> 1\u001b[0;31m \u001b[0mds\u001b[0m \u001b[0;34m=\u001b[0m \u001b[0myt_mod\u001b[0m\u001b[0;34m.\u001b[0m\u001b[0m_run\u001b[0m\u001b[0;34m(\u001b[0m\u001b[0;34m)\u001b[0m\u001b[0;34m\u001b[0m\u001b[0;34m\u001b[0m\u001b[0m\n\u001b[0m",
      "\u001b[0;32m<ipython-input-60-710ea408bd15>\u001b[0m in \u001b[0;36m_run\u001b[0;34m(self)\u001b[0m\n\u001b[1;32m     23\u001b[0m         \u001b[0;31m# for the top level model, we override this. Nested objects will still be recursive!\u001b[0m\u001b[0;34m\u001b[0m\u001b[0;34m\u001b[0m\u001b[0;34m\u001b[0m\u001b[0m\n\u001b[1;32m     24\u001b[0m         \u001b[0matt\u001b[0m \u001b[0;34m=\u001b[0m \u001b[0mgetattr\u001b[0m\u001b[0;34m(\u001b[0m\u001b[0mself\u001b[0m\u001b[0;34m,\u001b[0m \u001b[0;34m\"Load\"\u001b[0m\u001b[0;34m)\u001b[0m\u001b[0;34m\u001b[0m\u001b[0;34m\u001b[0m\u001b[0m\n\u001b[0;32m---> 25\u001b[0;31m         \u001b[0;32mreturn\u001b[0m \u001b[0matt\u001b[0m\u001b[0;34m.\u001b[0m\u001b[0m_run\u001b[0m\u001b[0;34m(\u001b[0m\u001b[0;34m)\u001b[0m\u001b[0;34m\u001b[0m\u001b[0;34m\u001b[0m\u001b[0m\n\u001b[0m",
      "\u001b[0;32m<ipython-input-18-2d3cd20b2f00>\u001b[0m in \u001b[0;36m_run\u001b[0;34m(self)\u001b[0m\n\u001b[1;32m     12\u001b[0m         \u001b[0;31m# that our class name exists in yt's top level api.\u001b[0m\u001b[0;34m\u001b[0m\u001b[0;34m\u001b[0m\u001b[0;34m\u001b[0m\u001b[0m\n\u001b[1;32m     13\u001b[0m         \u001b[0;32mimport\u001b[0m \u001b[0myt\u001b[0m\u001b[0;34m\u001b[0m\u001b[0;34m\u001b[0m\u001b[0m\n\u001b[0;32m---> 14\u001b[0;31m         \u001b[0mfunc\u001b[0m \u001b[0;34m=\u001b[0m \u001b[0mgetattr\u001b[0m\u001b[0;34m(\u001b[0m\u001b[0myt\u001b[0m\u001b[0;34m,\u001b[0m \u001b[0mtype\u001b[0m\u001b[0;34m(\u001b[0m\u001b[0mself\u001b[0m\u001b[0;34m)\u001b[0m\u001b[0;34m.\u001b[0m\u001b[0m__name__\u001b[0m\u001b[0;34m)\u001b[0m\u001b[0;34m\u001b[0m\u001b[0;34m\u001b[0m\u001b[0m\n\u001b[0m\u001b[1;32m     15\u001b[0m         \u001b[0mprint\u001b[0m\u001b[0;34m(\u001b[0m\u001b[0;34mf\"pulled func {func}\"\u001b[0m\u001b[0;34m)\u001b[0m\u001b[0;34m\u001b[0m\u001b[0;34m\u001b[0m\u001b[0m\n\u001b[1;32m     16\u001b[0m \u001b[0;34m\u001b[0m\u001b[0m\n",
      "\u001b[0;31mAttributeError\u001b[0m: module 'yt' has no attribute 'Dataset'"
     ]
    }
   ],
   "source": [
    "ds = yt_mod._run()"
   ]
  },
  {
   "cell_type": "code",
   "execution_count": null,
   "metadata": {},
   "outputs": [],
   "source": []
  },
  {
   "cell_type": "code",
   "execution_count": null,
   "metadata": {},
   "outputs": [],
   "source": []
  }
 ],
 "metadata": {
  "kernelspec": {
   "display_name": "Python 3",
   "language": "python",
   "name": "python3"
  },
  "language_info": {
   "codemirror_mode": {
    "name": "ipython",
    "version": 3
   },
   "file_extension": ".py",
   "mimetype": "text/x-python",
   "name": "python",
   "nbconvert_exporter": "python",
   "pygments_lexer": "ipython3",
   "version": "3.7.3"
  }
 },
 "nbformat": 4,
 "nbformat_minor": 5
}
