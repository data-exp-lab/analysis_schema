{
 "cells": [
  {
   "cell_type": "markdown",
   "metadata": {},
   "source": [
    "### Notes:\n",
    "\n",
    "- I only typed fields, not functions within a class\n",
    "- how can I recognize a yt specific container or entity?\n",
    "    - create a 'new_type'?\n",
    "- I put \"Any\" for datatypes that were to complex\n",
    "- It is really hard to manually identify types\n",
    "- Everything is required by default"
   ]
  },
  {
   "cell_type": "markdown",
   "metadata": {},
   "source": [
    "### Helpful Docs\n",
    "\n",
    " - https://mypy.readthedocs.io/en/latest/cheat_sheet_py3.html\n",
    " - https://www.jetbrains.com/help/pycharm/type-hinting-in-product.html\n",
    " - https://medium.com/@ageitgey/learn-how-to-use-static-type-checking-in-python-3-6-in-10-minutes-12c86d72677b\n",
    " - https://pydantic-docs.helpmanual.io/\n",
    " - https://docs.python.org/3/library/typing.html\n",
    " "
   ]
  },
  {
   "cell_type": "code",
   "execution_count": 121,
   "metadata": {},
   "outputs": [],
   "source": [
    "from typing import Dict, List, Optional, Sequence, Set, Tuple, OrderedDict, Any\n",
    "import enum\n",
    "from pydantic import BaseModel, Schema, create_model\n",
    "from quantities import UnitfulCoordinate, Vector, Path, UnitfulValue, UnitfulArray"
   ]
  },
  {
   "cell_type": "markdown",
   "metadata": {},
   "source": [
    "### Fixed Resolution Buffer"
   ]
  },
  {
   "cell_type": "code",
   "execution_count": 126,
   "metadata": {},
   "outputs": [
    {
     "name": "stdout",
     "output_type": "stream",
     "text": [
      "{'title': 'FixedResolutionBuffer', 'type': 'object', 'properties': {'bounds': {'title': 'Bounds', 'type': 'array', 'items': {'type': 'number'}}, 'buff_size': {'title': 'Buff_Size', 'type': 'array', 'items': [{'type': 'integer'}, {'type': 'integer'}]}, 'filters': {'title': 'Filters', 'type': 'array', 'items': {}}, 'edges': {'title': 'Edges', 'type': 'array', 'items': [{'type': 'array', 'items': {}}, {'type': 'array', 'items': {}}]}, 'ds': {'title': 'Ds'}, 'exclude_fields': {'title': 'Exclude_Fields', 'type': 'array', 'items': [{'type': 'string'}, {'type': 'string'}]}, 'period': {'title': 'Period', 'type': 'array', 'items': {}}, 'data': {'title': 'Data', 'default': {}, 'type': 'object'}, 'antialias': {'title': 'Antialias', 'default': True, 'type': 'boolean'}, 'periodic': {'title': 'Periodic', 'default': False, 'type': 'boolean'}, 'axis': {'title': 'Axis', 'default': 0, 'type': 'integer'}, 'data_source': {'title': 'Data_Source', 'type': 'string'}}, 'required': ['bounds', 'buff_size', 'filters', 'edges', 'ds', 'exclude_fields']}\n"
     ]
    }
   ],
   "source": [
    "class FixedResolutionBuffer(BaseModel):\n",
    "    period : tuple = None\n",
    "    data : dict = {}\n",
    "    antialias : bool = True\n",
    "    periodic : bool = False\n",
    "    bounds : List[float]\n",
    "    buff_size : Tuple[int, int]\n",
    "    filters : list\n",
    "    axis : int = 0\n",
    "    edges : Tuple[tuple, tuple]\n",
    "    data_source : str = None\n",
    "    # wasn't sure what to put for ds from the custom types in qunatities\n",
    "    ds : Any\n",
    "    exclude_fields : Tuple[str, str]\n",
    "\n",
    "print(FixedResolutionBuffer.schema())"
   ]
  },
  {
   "cell_type": "markdown",
   "metadata": {},
   "source": [
    "### Profile Plotter"
   ]
  },
  {
   "cell_type": "markdown",
   "metadata": {},
   "source": [
    "class PlotContainerDict(BaseModel):\n",
    "- no fields"
   ]
  },
  {
   "cell_type": "code",
   "execution_count": 127,
   "metadata": {},
   "outputs": [
    {
     "name": "stdout",
     "output_type": "stream",
     "text": [
      "{'title': 'FigureContainer', 'type': 'object', 'properties': {'plots': {'title': 'Plots', 'type': 'object', 'additionalProperties': {'type': 'number'}}}}\n"
     ]
    }
   ],
   "source": [
    "# typing for ordered dict?\n",
    "class FigureContainer(BaseModel):\n",
    "    plots : OrderedDict[str, float] = None\n",
    "\n",
    "print(FigureContainer.schema())"
   ]
  },
  {
   "cell_type": "code",
   "execution_count": 128,
   "metadata": {},
   "outputs": [
    {
     "name": "stdout",
     "output_type": "stream",
     "text": [
      "{'title': 'AxisContainer', 'type': 'object', 'properties': {'xlim': {'title': 'Xlim', 'type': 'array', 'items': {}}, 'plots': {'title': 'Plots', 'type': 'array', 'items': {}}, 'ylim': {'title': 'Ylim', 'type': 'object'}}, 'required': ['xlim', 'plots']}\n"
     ]
    }
   ],
   "source": [
    "class AxisContainer(BaseModel):\n",
    "    xlim : tuple\n",
    "    plots : tuple\n",
    "    ylim : dict = None\n",
    "        \n",
    "print(AxisContainer.schema())"
   ]
  },
  {
   "cell_type": "code",
   "execution_count": 129,
   "metadata": {},
   "outputs": [
    {
     "name": "stdout",
     "output_type": "stream",
     "text": [
      "{'title': 'ProfilePlot', 'type': 'object', 'properties': {'x_log': {'title': 'X_Log', 'type': 'boolean'}, 'y_log': {'title': 'Y_Log', 'type': 'boolean'}, 'x_title': {'title': 'X_Title', 'type': 'string'}, 'y_title': {'title': 'Y_Title', 'type': 'string'}, 'plot_valid': {'title': 'Plot_Valid', 'default': False, 'type': 'boolean'}}}\n"
     ]
    }
   ],
   "source": [
    "class ProfilePlot(BaseModel): \n",
    "    # two x_logs?\n",
    "    x_log : bool = None\n",
    "    y_log : bool = None\n",
    "    x_title : str = None\n",
    "    y_title : str = None\n",
    "    # plot valid twice?\n",
    "    plot_valid : bool = False\n",
    "        \n",
    "print(ProfilePlot.schema())      "
   ]
  },
  {
   "cell_type": "code",
   "execution_count": 130,
   "metadata": {},
   "outputs": [],
   "source": [
    "class PhasePlot(BaseModel):\n",
    "    plot_valid : bool = False\n",
    "    profile_valid : bool = False\n",
    "    x_log : bool = None\n",
    "    y_log : bool = None\n",
    "    plot_title : str = None\n",
    "    plot_type : str = 'Phase'\n",
    "    xlim : tuple = None\n",
    "    ylim : tuple = None"
   ]
  },
  {
   "cell_type": "code",
   "execution_count": 131,
   "metadata": {},
   "outputs": [
    {
     "name": "stdout",
     "output_type": "stream",
     "text": [
      "{'title': 'PhasePlot', 'type': 'object', 'properties': {'plot_valid': {'title': 'Plot_Valid', 'default': False, 'type': 'boolean'}, 'profile_valid': {'title': 'Profile_Valid', 'default': False, 'type': 'boolean'}, 'x_log': {'title': 'X_Log', 'type': 'boolean'}, 'y_log': {'title': 'Y_Log', 'type': 'boolean'}, 'plot_title': {'title': 'Plot_Title', 'type': 'string'}, 'plot_type': {'title': 'Plot_Type', 'default': 'Phase', 'type': 'string'}, 'xlim': {'title': 'Xlim', 'type': 'array', 'items': {}}, 'ylim': {'title': 'Ylim', 'type': 'array', 'items': {}}}}\n"
     ]
    }
   ],
   "source": [
    "print(PhasePlot.schema())"
   ]
  },
  {
   "cell_type": "code",
   "execution_count": 132,
   "metadata": {},
   "outputs": [],
   "source": [
    "class PhasePlotMPL(BaseModel):\n",
    "    figure_size : int\n",
    "    draw_colorbar : bool = True\n",
    "    ax_text_size : List[float]\n",
    "    image : Any\n",
    "    cb_size : float\n",
    "    aspect : float = 1.0\n",
    "    draw_axes : bool = True\n",
    "    initfinished : bool = False\n",
    "    top_buff_size : float\n",
    "    # this attribute eventually holds a color, does that get encoded into the typing/\n",
    "    cb : tuple = None"
   ]
  },
  {
   "cell_type": "code",
   "execution_count": 133,
   "metadata": {},
   "outputs": [
    {
     "name": "stdout",
     "output_type": "stream",
     "text": [
      "{'title': 'PhasePlotMPL', 'type': 'object', 'properties': {'figure_size': {'title': 'Figure_Size', 'type': 'integer'}, 'ax_text_size': {'title': 'Ax_Text_Size', 'type': 'array', 'items': {'type': 'number'}}, 'image': {'title': 'Image'}, 'cb_size': {'title': 'Cb_Size', 'type': 'number'}, 'top_buff_size': {'title': 'Top_Buff_Size', 'type': 'number'}, 'draw_colorbar': {'title': 'Draw_Colorbar', 'default': True, 'type': 'boolean'}, 'aspect': {'title': 'Aspect', 'default': 1.0, 'type': 'number'}, 'draw_axes': {'title': 'Draw_Axes', 'default': True, 'type': 'boolean'}, 'initfinished': {'title': 'Initfinished', 'default': False, 'type': 'boolean'}, 'cb': {'title': 'Cb', 'type': 'array', 'items': {}}}, 'required': ['figure_size', 'ax_text_size', 'image', 'cb_size', 'top_buff_size']}\n"
     ]
    }
   ],
   "source": [
    "print(PhasePlotMPL.schema())"
   ]
  },
  {
   "cell_type": "markdown",
   "metadata": {},
   "source": [
    "### Coordinate Handler"
   ]
  },
  {
   "cell_type": "code",
   "execution_count": 144,
   "metadata": {},
   "outputs": [],
   "source": [
    "# several feilds are called twice here according to pycharm\n",
    "\n",
    "class CoordinateHandler(BaseModel):\n",
    "    # not sure what the input for data project is, but it eventually becomes a dictionary\n",
    "    data_projection : dict\n",
    "    axis_id : dict\n",
    "    y_axis : dict\n",
    "    image_axis_name : dict\n",
    "    x_axis : dict\n",
    "    data_transform : dict\n",
    "    axis_order : list\n",
    "    ds : Any \n",
    "    axis_name : dict\n",
    "    name : str = None\n"
   ]
  },
  {
   "cell_type": "code",
   "execution_count": 145,
   "metadata": {},
   "outputs": [
    {
     "name": "stdout",
     "output_type": "stream",
     "text": [
      "{'title': 'CoordinateHandler', 'type': 'object', 'properties': {'data_projection': {'title': 'Data_Projection', 'type': 'object'}, 'axis_id': {'title': 'Axis_Id', 'type': 'object'}, 'y_axis': {'title': 'Y_Axis', 'type': 'object'}, 'image_axis_name': {'title': 'Image_Axis_Name', 'type': 'object'}, 'x_axis': {'title': 'X_Axis', 'type': 'object'}, 'data_transform': {'title': 'Data_Transform', 'type': 'object'}, 'axis_order': {'title': 'Axis_Order', 'type': 'array', 'items': {}}, 'ds': {'title': 'Ds'}, 'axis_name': {'title': 'Axis_Name', 'type': 'object'}, 'name': {'title': 'Name', 'type': 'string'}}, 'required': ['data_projection', 'axis_id', 'y_axis', 'image_axis_name', 'x_axis', 'data_transform', 'axis_order', 'ds', 'axis_name']}\n"
     ]
    }
   ],
   "source": [
    "print(CoordinateHandler.schema())"
   ]
  },
  {
   "cell_type": "code",
   "execution_count": null,
   "metadata": {},
   "outputs": [],
   "source": []
  }
 ],
 "metadata": {
  "kernelspec": {
   "display_name": "Python 3",
   "language": "python",
   "name": "python3"
  },
  "language_info": {
   "codemirror_mode": {
    "name": "ipython",
    "version": 3
   },
   "file_extension": ".py",
   "mimetype": "text/x-python",
   "name": "python",
   "nbconvert_exporter": "python",
   "pygments_lexer": "ipython3",
   "version": "3.7.3"
  }
 },
 "nbformat": 4,
 "nbformat_minor": 2
}
