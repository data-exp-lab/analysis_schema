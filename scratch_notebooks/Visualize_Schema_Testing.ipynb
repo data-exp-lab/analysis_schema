{
 "cells": [
  {
   "cell_type": "markdown",
   "id": "f4c967ca-77de-4c62-9b16-f5c77830c1db",
   "metadata": {
    "tags": []
   },
   "source": [
    "## Create a graph visualization of the analysis schema and/or the user JSON\n",
    "\n",
    "- use the dict from the json?\n",
    "    - can I use the nesting of the dicts to infer relationships and order?\n",
    "- use the pydantic classes and the type hints?\n",
    "    - can I use type hints and ID's to infer relationships?"
   ]
  },
  {
   "cell_type": "markdown",
   "id": "a06653a1-4a0a-4a7d-a6e4-d7ef651816d5",
   "metadata": {},
   "source": [
    "### Test 1: Using dict from user JSON to create a graph"
   ]
  },
  {
   "cell_type": "code",
   "execution_count": 28,
   "id": "93c29a63-d0bc-4fe1-ab6f-4d398d1f8fde",
   "metadata": {},
   "outputs": [],
   "source": [
    "import analysis_schema.run_analysis\n",
    "import networkx"
   ]
  },
  {
   "cell_type": "code",
   "execution_count": 29,
   "id": "9564fa3a-bdc6-4b51-9480-49491a3f3cac",
   "metadata": {},
   "outputs": [],
   "source": [
    "viz_schema = analysis_schema.run_analysis.visualize(\"../analysis_schema/pydantic_schema_example.json\")"
   ]
  },
  {
   "cell_type": "code",
   "execution_count": 30,
   "id": "deb7911d-444c-442d-8e20-f22c2719cee4",
   "metadata": {},
   "outputs": [
    {
     "name": "stdout",
     "output_type": "stream",
     "text": [
      "<class 'dict'>\n"
     ]
    }
   ],
   "source": [
    "# It's a dict!\n",
    "print(type(viz_schema))"
   ]
  },
  {
   "cell_type": "code",
   "execution_count": 31,
   "id": "3b8d9344-1368-42a7-9ca0-bf0c11124014",
   "metadata": {},
   "outputs": [
    {
     "name": "stdout",
     "output_type": "stream",
     "text": [
      "{'$schema': './yt_analysis_schema.json', 'Data': {'FileName': './IsolatedGalaxy/galaxy0030/galaxy0030', 'DatasetName': 'IG_Testing'}, 'Plot': [{'ProjectionPlot': {'Axis': 'y', 'FieldNames': {'field': 'temperature', 'field_type': 'gas'}, 'FontSize': 30, 'DataSource': {'sphere': {'Center': [0.6, 0.6, 0.6], 'Radius': 0.2}}}}]}\n"
     ]
    }
   ],
   "source": [
    "print(viz_schema)"
   ]
  },
  {
   "cell_type": "code",
   "execution_count": 32,
   "id": "f560075b-d037-4b3d-95e6-765a36493a87",
   "metadata": {},
   "outputs": [
    {
     "name": "stdout",
     "output_type": "stream",
     "text": [
      "dict_keys(['$schema', 'Data', 'Plot'])\n",
      "\n",
      "{'FileName': './IsolatedGalaxy/galaxy0030/galaxy0030', 'DatasetName': 'IG_Testing'}\n"
     ]
    }
   ],
   "source": [
    "print(viz_schema.keys())\n",
    "print()\n",
    "# do I need all items in the dict, or just the keys?\n",
    "print(viz_schema[\"Data\"])"
   ]
  },
  {
   "cell_type": "code",
   "execution_count": 33,
   "id": "da22704b-da77-46e1-bd4c-7f16e49b5168",
   "metadata": {},
   "outputs": [],
   "source": [
    "# example test schema\n",
    "\n",
    "test_schema = {\"$schema\": \"yt_schema\", \"Data\" :\n",
    "               [{'FileName': './IsolatedGalaxy/galaxy0030/galaxy0030', 'DatasetName': 'IG_Testing'}]}\n",
    "\n",
    "# : {\"Projection_Plot\": [3,4,5]}"
   ]
  },
  {
   "cell_type": "code",
   "execution_count": 34,
   "id": "db1612c2-f47f-44c2-9a81-9e14bbb97a3b",
   "metadata": {},
   "outputs": [],
   "source": [
    "Graph = networkx.Graph()"
   ]
  },
  {
   "cell_type": "code",
   "execution_count": 46,
   "id": "78eb88c5-1eb3-4f7e-a807-e6e0778cdd4f",
   "metadata": {},
   "outputs": [],
   "source": [
    "\n",
    "parent_child_list = list()\n",
    "\n",
    "# where to add the recursion?\n",
    "# list is the problem - use index 0\n",
    "# what about where a dict is the value? - call the recursive function\n",
    "# how to connect the parent to every other parent in a nested dict?\n",
    "# for the second child in a nested dict, need to connect it to the right parent\n",
    "\n",
    "\n",
    "def network_input(schema: dict, carry_over_parent=None):\n",
    "    parent_child_temp = list()\n",
    "    \n",
    "    for index, key in enumerate(schema):\n",
    "        print(index, key)\n",
    "        \n",
    "        if index == 0:\n",
    "            if carry_over_parent is not None:\n",
    "                parent_child_temp.append(carry_over_parent)\n",
    "            nested_type = isinstance(schema[key], list)\n",
    "            if nested_type is True:\n",
    "                flat_schema = schema[key][0]\n",
    "            parent_node = key\n",
    "            parent_child_temp.append(parent_node)\n",
    "            nested_type = schema[key]\n",
    "            nested_flag = isinstance(nested_type, dict)\n",
    "            if nested_flag is True:\n",
    "                print(key, schema[key])\n",
    "                network_input(nested_type, parent_child_temp[1])\n",
    "            \n",
    "        if index != 0:\n",
    "            # append the children\n",
    "            if carry_over_parent is not None:\n",
    "                parent_child_temp.insert(0, carry_over_parent)\n",
    "            parent_child_temp.append(key)\n",
    "            nested_type = isinstance(schema[key], list)\n",
    "            if nested_type is True:\n",
    "                flat_dict = dict()\n",
    "                # when I flatten the list then the key that found it is lost\n",
    "                flat_dict[key] = schema[key][0]\n",
    "                nested_type = flat_dict[key]\n",
    "                nested_flag = isinstance(nested_type, dict)\n",
    "                if nested_flag is True:\n",
    "                    network_input(flat_dict[key], key)\n",
    "                    \n",
    "            schema_list = isinstance(schema, list)\n",
    "            nested_type = schema[key]\n",
    "            nested_flag = isinstance(nested_type, dict)\n",
    "            if nested_flag is True:\n",
    "                print(key, schema[key])\n",
    "                network_input(schema[key], parent_child_temp[1])\n",
    "\n",
    "            if len(parent_child_temp) == 1:\n",
    "                parent_child_temp.insert(0, parent_node)\n",
    "                parent_child_list.append(parent_child_temp)\n",
    "                parent_child_temp = list()\n",
    "        \n",
    "        if len(parent_child_temp) == 2:\n",
    "            # add edges to graph here\n",
    "            parent_child_list.append(parent_child_temp)\n",
    "            parent_child_temp = list()\n",
    "    \n",
    "    return parent_child_list\n",
    "        \n",
    "    "
   ]
  },
  {
   "cell_type": "code",
   "execution_count": 47,
   "id": "654d4884-c8f6-4c84-ad7f-0c5890bc6c23",
   "metadata": {},
   "outputs": [
    {
     "name": "stdout",
     "output_type": "stream",
     "text": [
      "0 $schema\n",
      "1 Data\n",
      "Data {'FileName': './IsolatedGalaxy/galaxy0030/galaxy0030', 'DatasetName': 'IG_Testing'}\n",
      "0 FileName\n",
      "1 DatasetName\n",
      "2 Plot\n",
      "0 ProjectionPlot\n",
      "ProjectionPlot {'Axis': 'y', 'FieldNames': {'field': 'temperature', 'field_type': 'gas'}, 'FontSize': 30, 'DataSource': {'sphere': {'Center': [0.6, 0.6, 0.6], 'Radius': 0.2}}}\n",
      "0 Axis\n",
      "1 FieldNames\n",
      "FieldNames {'field': 'temperature', 'field_type': 'gas'}\n",
      "0 field\n",
      "1 field_type\n",
      "2 FontSize\n",
      "3 DataSource\n",
      "DataSource {'sphere': {'Center': [0.6, 0.6, 0.6], 'Radius': 0.2}}\n",
      "0 sphere\n",
      "sphere {'Center': [0.6, 0.6, 0.6], 'Radius': 0.2}\n",
      "0 Center\n",
      "1 Radius\n"
     ]
    },
    {
     "data": {
      "text/plain": [
       "[['Data', 'FileName'],\n",
       " ['Data', 'DatasetName'],\n",
       " ['$schema', 'Data'],\n",
       " ['ProjectionPlot', 'Axis'],\n",
       " ['FieldNames', 'field'],\n",
       " ['FieldNames', 'field_type'],\n",
       " ['ProjectionPlot', 'FieldNames'],\n",
       " ['ProjectionPlot', 'FontSize'],\n",
       " ['sphere', 'Center'],\n",
       " ['sphere', 'Radius'],\n",
       " ['DataSource', 'sphere'],\n",
       " ['ProjectionPlot', 'DataSource'],\n",
       " ['Plot', 'ProjectionPlot'],\n",
       " ['$schema', 'Plot']]"
      ]
     },
     "execution_count": 47,
     "metadata": {},
     "output_type": "execute_result"
    }
   ],
   "source": [
    "graph = network_input(viz_schema)\n",
    "graph"
   ]
  },
  {
   "cell_type": "code",
   "execution_count": 48,
   "id": "de2cd21e-6d71-49d7-86e0-b62d6339a0c9",
   "metadata": {},
   "outputs": [],
   "source": [
    "Graph.add_edges_from(graph)"
   ]
  },
  {
   "cell_type": "code",
   "execution_count": 49,
   "id": "9b4ef716-4e7f-4646-8723-b37ead48819a",
   "metadata": {},
   "outputs": [
    {
     "data": {
      "image/png": "[encoded data removed]",
      "text/plain": [
       "<Figure size 432x288 with 1 Axes>"
      ]
     },
     "metadata": {},
     "output_type": "display_data"
    }
   ],
   "source": [
    "networkx.draw_networkx(Graph)"
   ]
  },
  {
   "cell_type": "code",
   "execution_count": 50,
   "id": "5331f296-c86a-453b-a703-fac62e6dc491",
   "metadata": {},
   "outputs": [],
   "source": [
    "Graph.add_edges_from([[\"schema\", \"Data\"], \n",
    "                      [\"schema\", \"Plot\"], \n",
    "                      [\"Data\", \"Filename\"], \n",
    "                      [\"Data\", \"DatasetName\"],\n",
    "                      [\"Plot\", \"ProjectionPlot\"],\n",
    "                      [\"ProjectionPlot\", \"Axis\"],\n",
    "                      [\"ProjectionPlot\", \"FieldNames\"],\n",
    "                      [\"FieldNames\", \"field\"],\n",
    "                      [\"FieldNames\", \"fieldtype\"],\n",
    "                      [\"ProjectionPlot\", \"Fontsize\"],\n",
    "                      [\"ProjectionPlot\", \"DataSource\"],\n",
    "                      [\"DataSource\", \"sphere\"],\n",
    "                      [\"sphere\", \"Center\"],\n",
    "                      [\"sphere\", \"Radius\"]\n",
    "                     ])"
   ]
  },
  {
   "cell_type": "code",
   "execution_count": 51,
   "id": "d008d12b-f4cb-43a8-a0d9-b6695a888c82",
   "metadata": {},
   "outputs": [
    {
     "data": {
      "image/png": "[encoded data removed]",
      "text/plain": [
       "<Figure size 432x288 with 1 Axes>"
      ]
     },
     "metadata": {},
     "output_type": "display_data"
    }
   ],
   "source": [
    "graph = networkx.draw_networkx(Graph)"
   ]
  },
  {
   "cell_type": "markdown",
   "id": "3302dfcb-24c4-48a4-adbb-0c98b408b143",
   "metadata": {},
   "source": [
    "### Test 2: Visaulizing the Analysis Schema"
   ]
  },
  {
   "cell_type": "code",
   "execution_count": 52,
   "id": "d692ee3a-8f53-4c22-aeea-08262fc9d414",
   "metadata": {},
   "outputs": [],
   "source": [
    "Analysis_Schema_Graph = networkx.Graph()"
   ]
  },
  {
   "cell_type": "code",
   "execution_count": 53,
   "id": "ba8bd918-aec9-44b2-80fc-c7667632b31e",
   "metadata": {},
   "outputs": [
    {
     "name": "stdout",
     "output_type": "stream",
     "text": [
      "dict_items([('title', 'yt Schema Model for Descriptive Visualization and Analysis'), ('description', 'Create a model in the form of a json schema, using the yt data classes. As values\\nare added to the file referencing the schema, the function `run` with be called\\nrecursively to acccess nested yt elements and run the yt code.\\n\\nThe run function iterates through the attributes of the class and runs this values\\nentered for those attributes and puts the output into a list. This list will be\\niterated through to render and display the output.'), ('type', 'object'), ('properties', {'Data': {'$ref': '#/definitions/Dataset'}, 'Plot': {'title': 'Plot', 'type': 'array', 'items': {'$ref': '#/definitions/Visualizations'}}}), ('definitions', {'Dataset': {'title': 'Dataset', 'description': 'The dataset to load. Filename (fn) must be a string.\\n\\nRequired fields: Filename', 'type': 'object', 'properties': {'FileName': {'title': 'Filename', 'description': 'A string containing the (path to the file and the) file name', 'type': 'string', 'format': 'path'}, 'DatasetName': {'title': 'Datasetname', 'type': 'string'}, 'comments': {'title': 'Comments', 'type': 'string'}}, 'required': ['FileName']}, 'FieldNames': {'title': 'FieldNames', 'description': 'Specify a field name and field type from the dataset', 'type': 'object', 'properties': {'field': {'title': 'Field', 'type': 'string'}, 'field_type': {'title': 'Field Type', 'type': 'string'}, 'comments': {'title': 'Comments', 'type': 'string'}}, 'required': ['field', 'field_type']}, 'Sphere': {'title': 'Sphere', 'description': 'A sphere of points defined by a *center* and a *radius*.\\n    ', 'type': 'object', 'properties': {'Center': {'title': 'Center', 'type': 'array', 'items': {'type': 'number'}}, 'Radius': {'title': 'Radius', 'anyOf': [{'type': 'number'}, {'type': 'array', 'items': [{'type': 'number'}, {'type': 'string'}]}]}, 'DataSet': {'$ref': '#/definitions/Dataset'}}, 'required': ['Center', 'Radius']}, 'Region': {'title': 'Region', 'description': 'A cartesian box data selection object\\n    ', 'type': 'object', 'properties': {'center': {'title': 'Center', 'type': 'array', 'items': {'type': 'number'}}, 'left_edge': {'title': 'Left Edge', 'type': 'array', 'items': {'type': 'number'}}, 'right_edge': {'title': 'Right Edge', 'type': 'array', 'items': {'type': 'number'}}}, 'required': ['center', 'left_edge', 'right_edge']}, 'DataSource3D': {'title': 'DataSource3D', 'description': 'Select a subset of the dataset to visualize from the overall dataset', 'type': 'object', 'properties': {'sphere': {'$ref': '#/definitions/Sphere'}, 'region': {'$ref': '#/definitions/Region'}}}, 'SlicePlot': {'title': 'SlicePlot', 'description': 'Axis-aligned slice plot.', 'type': 'object', 'properties': {'Dataset': {'$ref': '#/definitions/Dataset'}, 'FieldNames': {'$ref': '#/definitions/FieldNames'}, 'Axis': {'title': 'Axis', 'type': 'string'}, 'Center': {'title': 'Center', 'anyOf': [{'type': 'string'}, {'type': 'array', 'items': {'type': 'number'}}]}, 'Width': {'title': 'Width', 'anyOf': [{'type': 'array', 'items': {'type': 'string'}}, {'type': 'array', 'items': [{'type': 'integer'}, {'type': 'string'}]}]}, 'DataSource': {'$ref': '#/definitions/DataSource3D'}, 'Comments': {'title': 'Comments', 'type': 'string'}}, 'required': ['FieldNames', 'Axis']}, 'ProjectionPlot': {'title': 'ProjectionPlot', 'description': 'Axis-aligned projection plot.', 'type': 'object', 'properties': {'Dataset': {'$ref': '#/definitions/Dataset'}, 'FieldNames': {'$ref': '#/definitions/FieldNames'}, 'Axis': {'title': 'Axis', 'anyOf': [{'type': 'string'}, {'type': 'integer'}]}, 'Center': {'title': 'Center', 'type': 'string'}, 'Width': {'title': 'Width', 'anyOf': [{'type': 'array', 'items': {}}, {'type': 'number'}]}, 'AxesUnit': {'title': 'Axesunit', 'type': 'string'}, 'WeightFieldName': {'$ref': '#/definitions/FieldNames'}, 'MaxLevel': {'title': 'Maxlevel', 'type': 'integer'}, 'Origin': {'title': 'Origin', 'anyOf': [{'type': 'string'}, {'type': 'array', 'items': {'type': 'string'}}]}, 'RightHanded': {'title': 'Righthanded', 'type': 'boolean'}, 'FontSize': {'title': 'Fontsize', 'type': 'integer'}, 'FieldParameters': {'title': 'Fieldparameters', 'type': 'object'}, 'Method': {'title': 'Method', 'type': 'string'}, 'DataSource': {'$ref': '#/definitions/DataSource3D'}, 'Comments': {'title': 'Comments', 'type': 'string'}}, 'required': ['FieldNames', 'Axis']}, 'PhasePlot': {'title': 'PhasePlot', 'description': 'A yt phase plot', 'type': 'object', 'properties': {'Dataset': {'$ref': '#/definitions/Dataset'}, 'xField': {'$ref': '#/definitions/FieldNames'}, 'yField': {'$ref': '#/definitions/FieldNames'}, 'zField(s)': {'title': 'Zfield(S)', 'anyOf': [{'$ref': '#/definitions/FieldNames'}, {'type': 'array', 'items': {'$ref': '#/definitions/FieldNames'}}]}, 'WegihtFieldName': {'$ref': '#/definitions/FieldNames'}, 'xBins': {'title': 'Xbins', 'type': 'integer'}, 'yBins': {'title': 'Ybins', 'type': 'integer'}, 'Accumulation': {'title': 'Accumulation', 'anyOf': [{'type': 'boolean'}, {'type': 'array', 'items': {'type': 'boolean'}}]}, 'Fractional': {'title': 'Fractional', 'type': 'boolean'}, 'FigureSize': {'title': 'Figuresize', 'type': 'integer'}, 'FontSize': {'title': 'Fontsize', 'type': 'integer'}, 'Shading': {'title': 'Shading', 'type': 'string'}, 'Comments': {'title': 'Comments', 'type': 'string'}}, 'required': ['xField', 'yField', 'zField(s)']}, 'Visualizations': {'title': 'Visualizations', 'description': 'This class organizes the attributes below so users can select the plot by name,\\nand see the correct arguments as suggestions', 'type': 'object', 'properties': {'SlicePlot': {'$ref': '#/definitions/SlicePlot'}, 'ProjectionPlot': {'$ref': '#/definitions/ProjectionPlot'}, 'PhasePlot': {'$ref': '#/definitions/PhasePlot'}}}})])\n"
     ]
    }
   ],
   "source": [
    "analysis_schema_json = analysis_schema.run_analysis.visualize(\"../analysis_schema/yt_analysis_schema.json\")\n",
    "print(analysis_schema_json.items())"
   ]
  },
  {
   "cell_type": "code",
   "execution_count": 55,
   "id": "786aefde-17ba-419b-8d92-36f4c151caec",
   "metadata": {},
   "outputs": [
    {
     "name": "stdout",
     "output_type": "stream",
     "text": [
      "0 title\n",
      "1 description\n",
      "2 type\n",
      "3 properties\n",
      "properties {'Data': {'$ref': '#/definitions/Dataset'}, 'Plot': {'title': 'Plot', 'type': 'array', 'items': {'$ref': '#/definitions/Visualizations'}}}\n"
     ]
    },
    {
     "ename": "IndexError",
     "evalue": "list index out of range",
     "output_type": "error",
     "traceback": [
      "\u001b[0;31m---------------------------------------------------------------------------\u001b[0m",
      "\u001b[0;31mIndexError\u001b[0m                                Traceback (most recent call last)",
      "Input \u001b[0;32mIn [55]\u001b[0m, in \u001b[0;36m<module>\u001b[0;34m\u001b[0m\n\u001b[0;32m----> 1\u001b[0m analysis_schema_graph \u001b[38;5;241m=\u001b[39m \u001b[43mnetwork_input\u001b[49m\u001b[43m(\u001b[49m\u001b[43manalysis_schema_json\u001b[49m\u001b[43m)\u001b[49m\n\u001b[1;32m      2\u001b[0m analysis_schema_graph\n\u001b[1;32m      3\u001b[0m networkx\u001b[38;5;241m.\u001b[39mdraw_networkx(Analysis_Schema_Graph)\n",
      "Input \u001b[0;32mIn [46]\u001b[0m, in \u001b[0;36mnetwork_input\u001b[0;34m(schema, carry_over_parent)\u001b[0m\n\u001b[1;32m     48\u001b[0m \u001b[38;5;28;01mif\u001b[39;00m nested_flag \u001b[38;5;129;01mis\u001b[39;00m \u001b[38;5;28;01mTrue\u001b[39;00m:\n\u001b[1;32m     49\u001b[0m     \u001b[38;5;28mprint\u001b[39m(key, schema[key])\n\u001b[0;32m---> 50\u001b[0m     network_input(schema[key], \u001b[43mparent_child_temp\u001b[49m\u001b[43m[\u001b[49m\u001b[38;5;241;43m1\u001b[39;49m\u001b[43m]\u001b[49m)\n\u001b[1;32m     52\u001b[0m \u001b[38;5;28;01mif\u001b[39;00m \u001b[38;5;28mlen\u001b[39m(parent_child_temp) \u001b[38;5;241m==\u001b[39m \u001b[38;5;241m1\u001b[39m:\n\u001b[1;32m     53\u001b[0m     parent_child_temp\u001b[38;5;241m.\u001b[39minsert(\u001b[38;5;241m0\u001b[39m, parent_node)\n",
      "\u001b[0;31mIndexError\u001b[0m: list index out of range"
     ]
    }
   ],
   "source": [
    "analysis_schema_graph = network_input(analysis_schema_json)\n",
    "analysis_schema_graph\n",
    "networkx.draw_networkx(Analysis_Schema_Graph)\n",
    "\n",
    "# I forogt about the definitions in the schema. \n",
    "# I'll have to add a way to move into that section to grab the correct attributes and make them nodes."
   ]
  },
  {
   "cell_type": "code",
   "execution_count": 27,
   "id": "989ae053-cceb-4bd6-bc26-ed241706b4d9",
   "metadata": {},
   "outputs": [
    {
     "ename": "NetworkXError",
     "evalue": "Edge tuple title must be a 2-tuple or 3-tuple.",
     "output_type": "error",
     "traceback": [
      "\u001b[0;31m---------------------------------------------------------------------------\u001b[0m",
      "\u001b[0;31mNetworkXError\u001b[0m                             Traceback (most recent call last)",
      "Input \u001b[0;32mIn [27]\u001b[0m, in \u001b[0;36m<module>\u001b[0;34m\u001b[0m\n\u001b[0;32m----> 1\u001b[0m \u001b[43mGraph\u001b[49m\u001b[38;5;241;43m.\u001b[39;49m\u001b[43madd_edges_from\u001b[49m\u001b[43m(\u001b[49m\u001b[43manalysis_schema_json\u001b[49m\u001b[43m)\u001b[49m\n",
      "File \u001b[0;32m~/opt/miniconda3/envs/Analysis_Schema-venv/lib/python3.9/site-packages/networkx/classes/graph.py:954\u001b[0m, in \u001b[0;36mGraph.add_edges_from\u001b[0;34m(self, ebunch_to_add, **attr)\u001b[0m\n\u001b[1;32m    952\u001b[0m     dd \u001b[38;5;241m=\u001b[39m {}  \u001b[38;5;66;03m# doesn't need edge_attr_dict_factory\u001b[39;00m\n\u001b[1;32m    953\u001b[0m \u001b[38;5;28;01melse\u001b[39;00m:\n\u001b[0;32m--> 954\u001b[0m     \u001b[38;5;28;01mraise\u001b[39;00m NetworkXError(\u001b[38;5;124mf\u001b[39m\u001b[38;5;124m\"\u001b[39m\u001b[38;5;124mEdge tuple \u001b[39m\u001b[38;5;132;01m{\u001b[39;00me\u001b[38;5;132;01m}\u001b[39;00m\u001b[38;5;124m must be a 2-tuple or 3-tuple.\u001b[39m\u001b[38;5;124m\"\u001b[39m)\n\u001b[1;32m    955\u001b[0m \u001b[38;5;28;01mif\u001b[39;00m u \u001b[38;5;129;01mnot\u001b[39;00m \u001b[38;5;129;01min\u001b[39;00m \u001b[38;5;28mself\u001b[39m\u001b[38;5;241m.\u001b[39m_node:\n\u001b[1;32m    956\u001b[0m     \u001b[38;5;28;01mif\u001b[39;00m u \u001b[38;5;129;01mis\u001b[39;00m \u001b[38;5;28;01mNone\u001b[39;00m:\n",
      "\u001b[0;31mNetworkXError\u001b[0m: Edge tuple title must be a 2-tuple or 3-tuple."
     ]
    }
   ],
   "source": [
    "Graph.add_edges_from(analysis_schema_json)\n"
   ]
  },
  {
   "cell_type": "markdown",
   "id": "c326c754-ca06-4176-a90a-5437ecdd33cb",
   "metadata": {},
   "source": [
    "### Visualizing Schemas\n",
    "- this is great for small JSON files, but how do we deal with bigger, unreadable schemas?\n",
    "- interactive viz? To pan, zoom or hide nodes?"
   ]
  },
  {
   "cell_type": "code",
   "execution_count": null,
   "id": "bd512f06-2621-4711-9a61-2b0a7ffafbda",
   "metadata": {},
   "outputs": [],
   "source": []
  }
 ],
 "metadata": {
  "kernelspec": {
   "display_name": "Analysis_Schema-venv",
   "language": "python",
   "name": "analysis_schema-venv"
  },
  "language_info": {
   "codemirror_mode": {
    "name": "ipython",
    "version": 3
   },
   "file_extension": ".py",
   "mimetype": "text/x-python",
   "name": "python",
   "nbconvert_exporter": "python",
   "pygments_lexer": "ipython3",
   "version": "3.9.10"
  }
 },
 "nbformat": 4,
 "nbformat_minor": 5
}
